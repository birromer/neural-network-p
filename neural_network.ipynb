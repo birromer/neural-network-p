{
  "nbformat": 4,
  "nbformat_minor": 0,
  "metadata": {
    "colab": {
      "name": "neural-network.ipynb",
      "version": "0.3.2",
      "provenance": [],
      "collapsed_sections": []
    },
    "kernelspec": {
      "name": "python3",
      "display_name": "Python 3"
    }
  },
  "cells": [
    {
      "metadata": {
        "id": "dUA6N1SgMwLN",
        "colab_type": "code",
        "colab": {}
      },
      "cell_type": "code",
      "source": [
        "import matplotlib.pyplot as plt\n",
        "import tensorflow as tf\n",
        "import numpy as np"
      ],
      "execution_count": 0,
      "outputs": []
    },
    {
      "metadata": {
        "id": "L6JoYXo-MyYT",
        "colab_type": "code",
        "outputId": "dc187ee1-486a-4907-bc3f-c5ed4752cb6f",
        "colab": {
          "base_uri": "https://localhost:8080/",
          "height": 35
        }
      },
      "cell_type": "code",
      "source": [
        "mnist = tf.keras.datasets.mnist\n",
        "\n",
        "(x_train, y_train),(x_test, y_test) = mnist.load_data()\n",
        "x_train, x_test = x_train / 255.0, x_test / 255.0\n",
        "\n",
        "x_t = np.reshape(x_train[0], -1)\n",
        "print(len(x_t))"
      ],
      "execution_count": 2,
      "outputs": [
        {
          "output_type": "stream",
          "text": [
            "784\n"
          ],
          "name": "stdout"
        }
      ]
    },
    {
      "metadata": {
        "id": "0oDqFR-8M0Gt",
        "colab_type": "code",
        "outputId": "06d9c22d-076b-4171-ccd8-a664ba35378e",
        "colab": {
          "base_uri": "https://localhost:8080/",
          "height": 54
        }
      },
      "cell_type": "code",
      "source": [
        "print(x_train[0].shape)\n",
        "print(y_train[0])"
      ],
      "execution_count": 3,
      "outputs": [
        {
          "output_type": "stream",
          "text": [
            "(28, 28)\n",
            "5\n"
          ],
          "name": "stdout"
        }
      ]
    },
    {
      "metadata": {
        "id": "ui9pdIXAM2el",
        "colab_type": "code",
        "colab": {}
      },
      "cell_type": "code",
      "source": [
        "from math import exp\n",
        "\n",
        "class Neuron:\n",
        "    def __init__(self, weights, bias=0): # add bias later\n",
        "        self.weights = weights\n",
        "        self.bias = bias\n",
        "        self.dEdz = 0\n",
        "\n",
        "    def activation_function(self, input): # sigmoid function\n",
        "        return 1.0 / (1.0 + exp(-(input)))\n",
        "\n",
        "    def z(self, inputs): # output\n",
        "        output = 0\n",
        "        for i in range(len(inputs)):\n",
        "            output += (inputs[i] * self.weights[i])\n",
        "        return output # + self.bias\n",
        "\n",
        "    def y(self, inputs):\n",
        "        return self.activation_function(self.z(inputs))\n",
        "    \n",
        "    def compute_dEdz(self, inputs, dEdy): # dEdy is a gradient\n",
        "        y = self.y(inputs)\n",
        "        self.dEdz =  (y * (1 - y) * dEdy)\n",
        "    \n",
        "    def update_weights(self, learningRate):\n",
        "        for i in range(len(self.weights)):\n",
        "            self.weights[i] += learningRate * self.weights[i] * self.dEdz[i]"
      ],
      "execution_count": 0,
      "outputs": []
    },
    {
      "metadata": {
        "id": "U8g9WazBM4hy",
        "colab_type": "code",
        "outputId": "182ec719-6284-42c4-e0c2-e945bfb03fb0",
        "colab": {
          "base_uri": "https://localhost:8080/",
          "height": 35
        }
      },
      "cell_type": "code",
      "source": [
        "#teste como nos videos\n",
        "\n",
        "inputs = [2, 5, 3]\n",
        "\n",
        "neuron = Neuron([150, 50, 100])\n",
        "\n",
        "print(neuron.z(inputs) == 850)\n",
        "\n",
        "#print(neuron.z(0.45))"
      ],
      "execution_count": 5,
      "outputs": [
        {
          "output_type": "stream",
          "text": [
            "True\n"
          ],
          "name": "stdout"
        }
      ]
    },
    {
      "metadata": {
        "id": "2UR54fXfNAA8",
        "colab_type": "code",
        "colab": {}
      },
      "cell_type": "code",
      "source": [
        "from random import uniform\n",
        "\n",
        "def gen_rand_weights(size_vec):\n",
        "    weights = []\n",
        "    for _ in range(size_vec):\n",
        "        weights.append(uniform(0,0.5))\n",
        "    return weights\n",
        "\n",
        "class DenseLayer:\n",
        "    def __init__(self, num_of_inputs, num_of_neurons):\n",
        "        self.num_of_inputs = num_of_inputs\n",
        "        self.neurons = []\n",
        "        for i in range(num_of_neurons):\n",
        "            weights = gen_rand_weights(num_of_inputs)\n",
        "            new_neuron = Neuron(weights)\n",
        "            self.neurons.append(new_neuron)\n",
        "\n",
        "    def feed_forward(self, inputs):\n",
        "        output = []\n",
        "        for neuron in self.neurons:\n",
        "            output.append(neuron.y(inputs))\n",
        "            #print(neuron.activation_function(inputs))\n",
        "        return output\n",
        "    \n",
        "    def update_weights(self, learning_rate):\n",
        "        for neuron in self.neurons:\n",
        "            neuron.update_weights(learning_rate)"
      ],
      "execution_count": 0,
      "outputs": []
    },
    {
      "metadata": {
        "id": "nmxJXCSMNE8H",
        "colab_type": "code",
        "outputId": "12131ba5-3f17-4796-e73d-4dfbbdf53849",
        "colab": {
          "base_uri": "https://localhost:8080/",
          "height": 35
        }
      },
      "cell_type": "code",
      "source": [
        "print(x_train[0].shape[0]**2)\n",
        "\n",
        "dl = DenseLayer(x_train[0].shape[0]**2, 10)"
      ],
      "execution_count": 7,
      "outputs": [
        {
          "output_type": "stream",
          "text": [
            "784\n"
          ],
          "name": "stdout"
        }
      ]
    },
    {
      "metadata": {
        "id": "1FeWupmkNHGq",
        "colab_type": "code",
        "outputId": "d3d7804e-f290-4bd9-e649-baa987f713a5",
        "colab": {
          "base_uri": "https://localhost:8080/",
          "height": 92
        }
      },
      "cell_type": "code",
      "source": [
        "inputs = x_train[0].flatten()\n",
        "\n",
        "ff = dl.feed_forward(inputs)\n",
        "\n",
        "print(dl.neurons[1].z(inputs))\n",
        "print(dl.neurons[1].y(inputs))\n",
        "\n",
        "print(ff)"
      ],
      "execution_count": 8,
      "outputs": [
        {
          "output_type": "stream",
          "text": [
            "27.743361434997137\n",
            "0.9999999999991063\n",
            "[0.9999999999998548, 0.9999999999991063, 0.9999999999955791, 0.9999999999985998, 0.9999999999984908, 0.9999999999997435, 0.99999999999637, 0.9999999999896811, 0.9999999999878915, 0.9999999999927001]\n"
          ],
          "name": "stdout"
        }
      ]
    },
    {
      "metadata": {
        "id": "Qz4aYvQmNJNJ",
        "colab_type": "code",
        "colab": {}
      },
      "cell_type": "code",
      "source": [
        "class NeuralNetwork:\n",
        "    def __init__(self, num_of_inputs, neurons_at_layer_1, neurons_at_layer_2):\n",
        "        self. num_of_inputs = num_of_inputs\n",
        "        layer_1 = DenseLayer(num_of_inputs, neurons_at_layer_1)\n",
        "        layer_2 = DenseLayer(neurons_at_layer_1, neurons_at_layer_2)\n",
        "        \n",
        "        self.layers = [layer_1, layer_2]\n",
        "        \n",
        "    def error_function(self, y, target):\n",
        "        t = [0 for _ in range(10)]\n",
        "        t[target] = 1\n",
        "        sum = 0\n",
        "        for i in range(len(y)):\n",
        "            diff = t[i] - y[i]\n",
        "            sum += (diff**2)\n",
        "        return sum\n",
        "        \n",
        "    def derivative_error_function(self, y, target):\n",
        "        t = [0 for _ in range(10)]\n",
        "        t[target] = 1\n",
        "        error_gradient = []\n",
        "        for i in range(len(y)):\n",
        "            partial_d = 2 * (t[i] - y[i])\n",
        "            #partial_d = -1 * (t[i] - y[i])\n",
        "            error_gradient.append(partial_d)\n",
        "        return error_gradient\n",
        "        \n",
        "    def feed_forward(self, inputs):\n",
        "        output_1 = []\n",
        "        for neuron in self.layers[0].neurons:\n",
        "            output_1.append(neuron.y(inputs))\n",
        "        output_2 = []\n",
        "        for neuron in self.layers[1].neurons:\n",
        "            output_2.append(neuron.y(output_1))\n",
        "        return output_2\n",
        "    \n",
        "    def one_hot_encoding(x):\n",
        "        ohe = [0 for _ in range(x)]\n",
        "        ohe[x] = 1\n",
        "        return ohe\n",
        "    \n",
        "    def encoding_to_number(vec):\n",
        "        return vec.index(max(vec))\n",
        "    \n",
        "\n",
        "    def backpropagation(self, inputs, labels, output, learning_rate):\n",
        "        dEdy = network.derivative_error_function(output, label)\n",
        "        \n",
        "        for i in range(len(network.layers)-1, -1, -1):\n",
        "            for j in range(len(network.layers[i].neurons)):\n",
        "                network.layers[i].neurons[j].compute_dEdz(sample, dEdy)\n",
        "        "
      ],
      "execution_count": 0,
      "outputs": []
    },
    {
      "metadata": {
        "id": "G-dMU9rSediE",
        "colab_type": "code",
        "outputId": "bc7db274-0b1b-4711-fc56-a6e69001a442",
        "colab": {
          "base_uri": "https://localhost:8080/",
          "height": 54
        }
      },
      "cell_type": "code",
      "source": [
        "nn = NeuralNetwork(x_train[0].shape[0]**2, 784, 10)\n",
        "\n",
        "print(inputs.shape)\n",
        "\n",
        "ffnn = nn.feed_forward(inputs)\n",
        "\n",
        "print(ffnn)"
      ],
      "execution_count": 10,
      "outputs": [
        {
          "output_type": "stream",
          "text": [
            "(784,)\n",
            "[1.0, 1.0, 1.0, 1.0, 1.0, 1.0, 1.0, 1.0, 1.0, 1.0]\n"
          ],
          "name": "stdout"
        }
      ]
    },
    {
      "metadata": {
        "id": "Db018U4Xtnyj",
        "colab_type": "code",
        "colab": {
          "base_uri": "https://localhost:8080/",
          "height": 55
        },
        "outputId": "2d13f58e-868b-45a9-e9dc-3048941c5d80"
      },
      "cell_type": "code",
      "source": [
        "\"\"\"\n",
        "for testing ignore\n",
        "samples = x_train\n",
        "labels = y_train\n",
        "\n",
        "one_layer = DenseLayer(x_train[0].shape[0]**2, 10)\n",
        "\n",
        "for s in range(len(samples)):\n",
        "    sample = samples[s].flatten()\n",
        "    output = one_layer.feed_forward(sample)\n",
        "\n",
        "    loss = error_function(output, labels[s])\n",
        "    dEdy = derivative_error_function(output, labels[s])\n",
        "    \n",
        "    for n in range(len(one_layer.neurons)):\n",
        "        one_layer.neurons[n].compute_dEdz(sample, dEdy)\n",
        "        \n",
        "    one_layer.update_weights(0.001)\n",
        "\"\"\""
      ],
      "execution_count": 11,
      "outputs": [
        {
          "output_type": "execute_result",
          "data": {
            "text/plain": [
              "'\\nfor testing ignore\\nsamples = x_train\\nlabels = y_train\\n\\none_layer = DenseLayer(x_train[0].shape[0]**2, 10)\\n\\nfor s in range(len(samples)):\\n    sample = samples[s].flatten()\\n    output = one_layer.feed_forward(sample)\\n\\n    loss = error_function(output, labels[s])\\n    dEdy = derivative_error_function(output, labels[s])\\n    \\n    for n in range(len(one_layer.neurons)):\\n        one_layer.neurons[n].compute_dEdz(sample, dEdy)\\n        \\n    one_layer.update_weights(0.001)\\n'"
            ]
          },
          "metadata": {
            "tags": []
          },
          "execution_count": 11
        }
      ]
    },
    {
      "metadata": {
        "id": "04gN2MULkkM0",
        "colab_type": "code",
        "colab": {}
      },
      "cell_type": "code",
      "source": [
        "samples = x_train\n",
        "labels = y_train\n",
        "\n",
        "network = NeuralNetwork(x_train[0].shape[0]**2, 784, 10)\n",
        "\n",
        "print(len(samples))\n",
        "\n",
        "for s in range(len(samples)):\n",
        "    print(\"Sample %s being used.\" % (str(s)))\n",
        "    sample = samples[s].flatten()\n",
        "    label = labels[s]\n",
        "    \n",
        "    output = network.feed_forward(sample)\n",
        "    loss = network.error_function(output, label)\n",
        "    \n",
        "    print(\"Current loss = \" + str(loss))\n",
        "    \n",
        "    network.backpropagation(sample, label, output, 0.001)"
      ],
      "execution_count": 0,
      "outputs": []
    },
    {
      "metadata": {
        "id": "XLRtSJgvtILD",
        "colab_type": "code",
        "colab": {}
      },
      "cell_type": "code",
      "source": [
        ""
      ],
      "execution_count": 0,
      "outputs": []
    }
  ]
}