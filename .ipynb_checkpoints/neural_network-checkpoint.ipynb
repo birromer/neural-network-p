{
 "cells": [
  {
   "cell_type": "code",
   "execution_count": 5,
   "metadata": {},
   "outputs": [
    {
     "ename": "ModuleNotFoundError",
     "evalue": "No module named 'jupyterthemes'",
     "output_type": "error",
     "traceback": [
      "\u001b[0;31m---------------------------------------------------------------------------\u001b[0m",
      "\u001b[0;31mModuleNotFoundError\u001b[0m                       Traceback (most recent call last)",
      "\u001b[0;32m<ipython-input-5-ae2a55d88cc4>\u001b[0m in \u001b[0;36m<module>\u001b[0;34m\u001b[0m\n\u001b[0;32m----> 1\u001b[0;31m \u001b[0;32mfrom\u001b[0m \u001b[0mjupyterthemes\u001b[0m \u001b[0;32mimport\u001b[0m \u001b[0mjtplot\u001b[0m\u001b[0;34m\u001b[0m\u001b[0;34m\u001b[0m\u001b[0m\n\u001b[0m\u001b[1;32m      2\u001b[0m \u001b[0mjtplot\u001b[0m\u001b[0;34m.\u001b[0m\u001b[0mstyle\u001b[0m\u001b[0;34m(\u001b[0m\u001b[0mtheme\u001b[0m\u001b[0;34m=\u001b[0m\u001b[0;34m'onedork'\u001b[0m\u001b[0;34m)\u001b[0m\u001b[0;34m\u001b[0m\u001b[0;34m\u001b[0m\u001b[0m\n\u001b[1;32m      3\u001b[0m \u001b[0mjtplot\u001b[0m\u001b[0;34m.\u001b[0m\u001b[0mstyle\u001b[0m\u001b[0;34m(\u001b[0m\u001b[0mcontext\u001b[0m\u001b[0;34m=\u001b[0m\u001b[0;34m'talk'\u001b[0m\u001b[0;34m,\u001b[0m \u001b[0mfscale\u001b[0m\u001b[0;34m=\u001b[0m\u001b[0;36m1.4\u001b[0m\u001b[0;34m,\u001b[0m \u001b[0mspines\u001b[0m\u001b[0;34m=\u001b[0m\u001b[0;32mFalse\u001b[0m\u001b[0;34m,\u001b[0m \u001b[0mgridlines\u001b[0m\u001b[0;34m=\u001b[0m\u001b[0;34m'--'\u001b[0m\u001b[0;34m)\u001b[0m\u001b[0;34m\u001b[0m\u001b[0;34m\u001b[0m\u001b[0m\n\u001b[1;32m      4\u001b[0m \u001b[0mjtplot\u001b[0m\u001b[0;34m.\u001b[0m\u001b[0mstyle\u001b[0m\u001b[0;34m(\u001b[0m\u001b[0mticks\u001b[0m\u001b[0;34m=\u001b[0m\u001b[0;32mTrue\u001b[0m\u001b[0;34m,\u001b[0m \u001b[0mgrid\u001b[0m\u001b[0;34m=\u001b[0m\u001b[0;32mFalse\u001b[0m\u001b[0;34m,\u001b[0m \u001b[0mfigsize\u001b[0m\u001b[0;34m=\u001b[0m\u001b[0;34m(\u001b[0m\u001b[0;36m6\u001b[0m\u001b[0;34m,\u001b[0m \u001b[0;36m4.5\u001b[0m\u001b[0;34m)\u001b[0m\u001b[0;34m)\u001b[0m\u001b[0;34m\u001b[0m\u001b[0;34m\u001b[0m\u001b[0m\n",
      "\u001b[0;31mModuleNotFoundError\u001b[0m: No module named 'jupyterthemes'"
     ]
    }
   ],
   "source": [
    "from jupyterthemes import jtplot\n",
    "jtplot.style(theme='onedork')\n",
    "jtplot.style(context='talk', fscale=1.4, spines=False, gridlines='--')\n",
    "jtplot.style(ticks=True, grid=False, figsize=(6, 4.5))\n"
   ]
  },
  {
   "cell_type": "code",
   "execution_count": 3,
   "metadata": {
    "colab": {},
    "colab_type": "code",
    "id": "dUA6N1SgMwLN"
   },
   "outputs": [
    {
     "ename": "ModuleNotFoundError",
     "evalue": "No module named 'tensorflow'",
     "output_type": "error",
     "traceback": [
      "\u001b[0;31m---------------------------------------------------------------------------\u001b[0m",
      "\u001b[0;31mModuleNotFoundError\u001b[0m                       Traceback (most recent call last)",
      "\u001b[0;32m<ipython-input-3-713807a5230b>\u001b[0m in \u001b[0;36m<module>\u001b[0;34m\u001b[0m\n\u001b[1;32m      1\u001b[0m \u001b[0;32mimport\u001b[0m \u001b[0mmatplotlib\u001b[0m\u001b[0;34m.\u001b[0m\u001b[0mpyplot\u001b[0m \u001b[0;32mas\u001b[0m \u001b[0mplt\u001b[0m\u001b[0;34m\u001b[0m\u001b[0;34m\u001b[0m\u001b[0m\n\u001b[0;32m----> 2\u001b[0;31m \u001b[0;32mimport\u001b[0m \u001b[0mtensorflow\u001b[0m \u001b[0;32mas\u001b[0m \u001b[0mtf\u001b[0m\u001b[0;34m\u001b[0m\u001b[0;34m\u001b[0m\u001b[0m\n\u001b[0m\u001b[1;32m      3\u001b[0m \u001b[0;32mimport\u001b[0m \u001b[0mnumpy\u001b[0m \u001b[0;32mas\u001b[0m \u001b[0mnp\u001b[0m\u001b[0;34m\u001b[0m\u001b[0;34m\u001b[0m\u001b[0m\n",
      "\u001b[0;31mModuleNotFoundError\u001b[0m: No module named 'tensorflow'"
     ]
    }
   ],
   "source": [
    "import matplotlib.pyplot as plt\n",
    "import tensorflow as tf\n",
    "import numpy as np"
   ]
  },
  {
   "cell_type": "code",
   "execution_count": null,
   "metadata": {
    "colab": {
     "base_uri": "https://localhost:8080/",
     "height": 35
    },
    "colab_type": "code",
    "id": "L6JoYXo-MyYT",
    "outputId": "dc187ee1-486a-4907-bc3f-c5ed4752cb6f"
   },
   "outputs": [],
   "source": [
    "mnist = tf.keras.datasets.mnist\n",
    "\n",
    "(x_train, y_train),(x_test, y_test) = mnist.load_data()\n",
    "x_train, x_test = x_train / 255.0, x_test / 255.0\n",
    "\n",
    "x_t = np.reshape(x_train[0], -1)\n",
    "print(len(x_t))"
   ]
  },
  {
   "cell_type": "code",
   "execution_count": 3,
   "metadata": {
    "colab": {
     "base_uri": "https://localhost:8080/",
     "height": 54
    },
    "colab_type": "code",
    "id": "0oDqFR-8M0Gt",
    "outputId": "06d9c22d-076b-4171-ccd8-a664ba35378e"
   },
   "outputs": [
    {
     "name": "stdout",
     "output_type": "stream",
     "text": [
      "(28, 28)\n",
      "5\n"
     ]
    }
   ],
   "source": [
    "print(x_train[0].shape)\n",
    "print(y_train[0])"
   ]
  },
  {
   "cell_type": "code",
   "execution_count": 0,
   "metadata": {
    "colab": {},
    "colab_type": "code",
    "id": "ui9pdIXAM2el"
   },
   "outputs": [],
   "source": [
    "from math import exp\n",
    "\n",
    "class Neuron:\n",
    "    def __init__(self, weights, bias=0): # add bias later\n",
    "        self.weights = weights\n",
    "        self.bias = bias\n",
    "        self.dEdz = 0\n",
    "        self.output = 0\n",
    "\n",
    "    def activation_function(self, input): # sigmoid function\n",
    "        #print(\"input \",input)\n",
    "        return 1.0 / (1.0 + exp(-(input)))\n",
    "\n",
    "    def z(self, inputs): # output\n",
    "        output = 0\n",
    "        for i in range(len(inputs)):\n",
    "            output += (inputs[i] * self.weights[i])\n",
    "        return output # + self.bias\n",
    "\n",
    "    def y(self, inputs):\n",
    "        self.output = self.activation_function(self.z(inputs))\n",
    "        return self.output\n",
    "    \n",
    "    def compute_dEdz(self, dEdy): \n",
    "        y = self.output\n",
    "        self.dEdz =  (y * (1 - y) * dEdy)\n",
    "        return self.dEdz\n",
    "    \n",
    "    def update_weights(self, learningRate, dEdw):\n",
    "        for i in range(len(self.weights)):\n",
    "            self.weights[i] -= learningRate * dEdw\n",
    "            \n",
    "    def update_bias(self, learning_rate, dEdz):\n",
    "        self.bias -= learning_rate * dEdz"
   ]
  },
  {
   "cell_type": "code",
   "execution_count": 5,
   "metadata": {
    "colab": {
     "base_uri": "https://localhost:8080/",
     "height": 35
    },
    "colab_type": "code",
    "id": "U8g9WazBM4hy",
    "outputId": "182ec719-6284-42c4-e0c2-e945bfb03fb0"
   },
   "outputs": [
    {
     "name": "stdout",
     "output_type": "stream",
     "text": [
      "True\n"
     ]
    }
   ],
   "source": [
    "#teste como nos videos\n",
    "\n",
    "inputs = [2, 5, 3]\n",
    "\n",
    "neuron = Neuron([150, 50, 100])\n",
    "\n",
    "print(neuron.z(inputs) == 850)\n",
    "\n",
    "#print(neuron.z(0.45))"
   ]
  },
  {
   "cell_type": "code",
   "execution_count": 0,
   "metadata": {
    "colab": {},
    "colab_type": "code",
    "id": "2UR54fXfNAA8"
   },
   "outputs": [],
   "source": [
    "from random import uniform\n",
    "\n",
    "def gen_rand_weights(size_vec):\n",
    "    weights = []\n",
    "    for _ in range(size_vec):\n",
    "        weights.append(uniform(0,0.5))\n",
    "    return weights\n",
    "\n",
    "class DenseLayer:\n",
    "    def __init__(self, num_of_inputs, num_of_neurons):\n",
    "        self.num_of_inputs = num_of_inputs\n",
    "        self.neurons = []\n",
    "        for i in range(num_of_neurons):\n",
    "            weights = gen_rand_weights(num_of_inputs)\n",
    "            new_neuron = Neuron(weights)\n",
    "            self.neurons.append(new_neuron)\n",
    "\n",
    "    def feed_forward(self, inputs):\n",
    "        output = []\n",
    "        for neuron in self.neurons:\n",
    "            output.append(neuron.y(inputs))\n",
    "            #print(neuron.activation_function(inputs))\n",
    "        return output\n",
    "    \n",
    "    def update_weights(self, learning_rate):\n",
    "        for neuron in self.neurons:\n",
    "            neuron.update_weights(learning_rate)"
   ]
  },
  {
   "cell_type": "code",
   "execution_count": 7,
   "metadata": {
    "colab": {
     "base_uri": "https://localhost:8080/",
     "height": 35
    },
    "colab_type": "code",
    "id": "nmxJXCSMNE8H",
    "outputId": "12131ba5-3f17-4796-e73d-4dfbbdf53849"
   },
   "outputs": [
    {
     "name": "stdout",
     "output_type": "stream",
     "text": [
      "784\n"
     ]
    }
   ],
   "source": [
    "print(x_train[0].shape[0]**2)\n",
    "\n",
    "dl = DenseLayer(x_train[0].shape[0]**2, 10)"
   ]
  },
  {
   "cell_type": "code",
   "execution_count": 8,
   "metadata": {
    "colab": {
     "base_uri": "https://localhost:8080/",
     "height": 92
    },
    "colab_type": "code",
    "id": "1FeWupmkNHGq",
    "outputId": "d3d7804e-f290-4bd9-e649-baa987f713a5"
   },
   "outputs": [
    {
     "name": "stdout",
     "output_type": "stream",
     "text": [
      "27.743361434997137\n",
      "0.9999999999991063\n",
      "[0.9999999999998548, 0.9999999999991063, 0.9999999999955791, 0.9999999999985998, 0.9999999999984908, 0.9999999999997435, 0.99999999999637, 0.9999999999896811, 0.9999999999878915, 0.9999999999927001]\n"
     ]
    }
   ],
   "source": [
    "inputs = x_train[0].flatten()\n",
    "\n",
    "ff = dl.feed_forward(inputs)\n",
    "\n",
    "print(dl.neurons[1].z(inputs))\n",
    "print(dl.neurons[1].y(inputs))\n",
    "\n",
    "print(ff)"
   ]
  },
  {
   "cell_type": "code",
   "execution_count": 0,
   "metadata": {
    "colab": {},
    "colab_type": "code",
    "id": "Qz4aYvQmNJNJ"
   },
   "outputs": [],
   "source": [
    "class NeuralNetwork:\n",
    "    def __init__(self, num_of_inputs, neurons_at_layer_1, neurons_at_layer_2):\n",
    "        self. num_of_inputs = num_of_inputs\n",
    "        layer_1 = DenseLayer(num_of_inputs, neurons_at_layer_1)\n",
    "        layer_2 = DenseLayer(neurons_at_layer_1, neurons_at_layer_2)\n",
    "        \n",
    "        self.layers = [layer_1, layer_2]\n",
    "        \n",
    "    def error_function(self, y, target):\n",
    "        t = [0 for _ in range(10)]\n",
    "        t[target] = 1\n",
    "        sum = 0\n",
    "        for i in range(len(y)):\n",
    "            diff = t[i] - y[i]\n",
    "            sum += (diff**2)\n",
    "        return sum\n",
    "        \n",
    "    def derivative_error_function(self, y, target):\n",
    "        t = [0 for _ in range(10)]\n",
    "        t[target] = 1\n",
    "        error_gradient = []\n",
    "        for i in range(len(y)):\n",
    "            partial_d = 2 * (t[i] - y[i])\n",
    "            #partial_d = -1 * (t[i] - y[i])\n",
    "            error_gradient.append(partial_d)\n",
    "        return error_gradient\n",
    "        \n",
    "    def feed_forward(self, inputs):\n",
    "        output_1 = []\n",
    "        for neuron in self.layers[0].neurons:\n",
    "            output_1.append(neuron.y(inputs))\n",
    "        output_2 = []\n",
    "        for neuron in self.layers[1].neurons:\n",
    "            output_2.append(neuron.y(output_1))\n",
    "        return output_2\n",
    "    \n",
    "    def one_hot_encoding(x):\n",
    "        ohe = [0 for _ in range(x)]\n",
    "        ohe[x] = 1\n",
    "        return ohe\n",
    "    \n",
    "    def encoding_to_number(vec):\n",
    "        return vec.index(max(vec))\n",
    "    \n",
    "\n",
    "    def backpropagation(self, inputs, labels, output, learning_rate):\n",
    "        dEdy = network.derivative_error_function(output, label)\n",
    "        \n",
    "        for i in range(len(network.layers)-1, -1, -1):\n",
    "            for j in range(len(network.layers[i].neurons)):\n",
    "                network.layers[i].neurons[j].compute_dEdz(sample, dEdy)\n",
    "        "
   ]
  },
  {
   "cell_type": "code",
   "execution_count": 10,
   "metadata": {
    "colab": {
     "base_uri": "https://localhost:8080/",
     "height": 54
    },
    "colab_type": "code",
    "id": "G-dMU9rSediE",
    "outputId": "bc7db274-0b1b-4711-fc56-a6e69001a442"
   },
   "outputs": [
    {
     "name": "stdout",
     "output_type": "stream",
     "text": [
      "(784,)\n",
      "[1.0, 1.0, 1.0, 1.0, 1.0, 1.0, 1.0, 1.0, 1.0, 1.0]\n"
     ]
    }
   ],
   "source": [
    "nn = NeuralNetwork(x_train[0].shape[0]**2, 784, 10)\n",
    "\n",
    "print(inputs.shape)\n",
    "\n",
    "ffnn = nn.feed_forward(inputs)\n",
    "\n",
    "print(ffnn)"
   ]
  },
  {
   "cell_type": "code",
   "execution_count": 11,
   "metadata": {
    "colab": {
     "base_uri": "https://localhost:8080/",
     "height": 55
    },
    "colab_type": "code",
    "id": "Db018U4Xtnyj",
    "outputId": "2d13f58e-868b-45a9-e9dc-3048941c5d80"
   },
   "outputs": [
    {
     "data": {
      "text/plain": [
       "'\\nfor testing ignore\\nsamples = x_train\\nlabels = y_train\\n\\none_layer = DenseLayer(x_train[0].shape[0]**2, 10)\\n\\nfor s in range(len(samples)):\\n    sample = samples[s].flatten()\\n    output = one_layer.feed_forward(sample)\\n\\n    loss = error_function(output, labels[s])\\n    dEdy = derivative_error_function(output, labels[s])\\n    \\n    for n in range(len(one_layer.neurons)):\\n        one_layer.neurons[n].compute_dEdz(sample, dEdy)\\n        \\n    one_layer.update_weights(0.001)\\n'"
      ]
     },
     "execution_count": 11,
     "metadata": {
      "tags": []
     },
     "output_type": "execute_result"
    }
   ],
   "source": [
    "\"\"\"\n",
    "for testing ignore\n",
    "samples = x_train\n",
    "labels = y_train\n",
    "\n",
    "one_layer = DenseLayer(x_train[0].shape[0]**2, 10)\n",
    "\n",
    "for s in range(len(samples)):\n",
    "    sample = samples[s].flatten()\n",
    "    output = one_layer.feed_forward(sample)\n",
    "\n",
    "    loss = error_function(output, labels[s])\n",
    "    dEdy = derivative_error_function(output, labels[s])\n",
    "    \n",
    "    for n in range(len(one_layer.neurons)):\n",
    "        one_layer.neurons[n].compute_dEdz(sample, dEdy)\n",
    "        \n",
    "    one_layer.update_weights(0.001)\n",
    "\"\"\""
   ]
  },
  {
   "cell_type": "code",
   "execution_count": 0,
   "metadata": {
    "colab": {},
    "colab_type": "code",
    "id": "04gN2MULkkM0"
   },
   "outputs": [],
   "source": [
    "samples = x_train\n",
    "labels = y_train\n",
    "\n",
    "network = NeuralNetwork(x_train[0].shape[0]**2, 784, 10)\n",
    "\n",
    "print(len(samples))\n",
    "\n",
    "for s in range(len(samples)):\n",
    "    print(\"Sample %s being used.\" % (str(s)))\n",
    "    sample = samples[s].flatten()\n",
    "    label = labels[s]\n",
    "    \n",
    "    output = network.feed_forward(sample)\n",
    "    loss = network.error_function(output, label)\n",
    "    \n",
    "    print(\"Current loss = \" + str(loss))\n",
    "    \n",
    "    network.backpropagation(sample, label, output, 0.001)"
   ]
  },
  {
   "cell_type": "code",
   "execution_count": 0,
   "metadata": {
    "colab": {},
    "colab_type": "code",
    "id": "XLRtSJgvtILD"
   },
   "outputs": [],
   "source": []
  }
 ],
 "metadata": {
  "@webio": {
   "lastCommId": "55df6b523977481089d09c425c9cb1ff",
   "lastKernelId": "1e55ff73-fec2-4ab2-a54c-7ffc77d51ddd"
  },
  "colab": {
   "collapsed_sections": [],
   "name": "neural-network.ipynb",
   "provenance": [],
   "version": "0.3.2"
  },
  "kernelspec": {
   "display_name": "Python 3",
   "language": "python",
   "name": "python3"
  },
  "language_info": {
   "codemirror_mode": {
    "name": "ipython",
    "version": 3
   },
   "file_extension": ".py",
   "mimetype": "text/x-python",
   "name": "python",
   "nbconvert_exporter": "python",
   "pygments_lexer": "ipython3",
   "version": "3.7.2"
  }
 },
 "nbformat": 4,
 "nbformat_minor": 1
}
