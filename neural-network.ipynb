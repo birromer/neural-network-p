{
 "cells": [
  {
   "cell_type": "code",
   "execution_count": 9,
   "metadata": {},
   "outputs": [],
   "source": [
    "import matplotlib.pyplot as plt\n",
    "import tensorflow as tf\n",
    "import numpy as np"
   ]
  },
  {
   "cell_type": "code",
   "execution_count": 10,
   "metadata": {},
   "outputs": [
    {
     "name": "stdout",
     "output_type": "stream",
     "text": [
      "784\n"
     ]
    }
   ],
   "source": [
    "mnist = tf.keras.datasets.mnist\n",
    "\n",
    "(x_train, y_train),(x_test, y_test) = mnist.load_data()\n",
    "x_train, x_test = x_train / 255.0, x_test / 255.0\n",
    "\n",
    "x_t = np.reshape(x_train[0], -1)\n",
    "print(len(x_t))"
   ]
  },
  {
   "cell_type": "code",
   "execution_count": 11,
   "metadata": {},
   "outputs": [
    {
     "name": "stdout",
     "output_type": "stream",
     "text": [
      "(28, 28)\n",
      "5\n"
     ]
    }
   ],
   "source": [
    "print(x_train[0].shape)\n",
    "print(y_train[0])"
   ]
  },
  {
   "cell_type": "code",
   "execution_count": 12,
   "metadata": {},
   "outputs": [],
   "source": [
    "from math import exp\n",
    "\n",
    "class Neuron:\n",
    "    def __init__(self, weights): #add bias later\n",
    "        self.weights = weights\n",
    "        #self.bias = bias\n",
    "\n",
    "    def activation_function(self, input): #sigmoid function\n",
    "        return 1.0 / (1.0 + exp(-(input)))\n",
    "\n",
    "    def z(self, inputs): #output\n",
    "        output = 0\n",
    "        for i in range(len(inputs)):\n",
    "            output += (inputs[i] * self.weights[i])\n",
    "        #print(output)\n",
    "        return output # + self.bias\n",
    "\n",
    "    def y(self, inputs):\n",
    "        #print(self.z(self.y(inputs)))\n",
    "        return self.activation_function(self.z(inputs))\n",
    "    \n",
    "#    def updateWeights(learningRate, dEdy):\n",
    "#        for i in len(self.weights):\n",
    "#            weights[i] += learningRate * weight[i] * (target)"
   ]
  },
  {
   "cell_type": "code",
   "execution_count": 13,
   "metadata": {},
   "outputs": [
    {
     "name": "stdout",
     "output_type": "stream",
     "text": [
      "850\n"
     ]
    }
   ],
   "source": [
    "#teste como nos videos\n",
    "\n",
    "inputs = [2, 5, 3]\n",
    "\n",
    "neuron = Neuron([150, 50, 100])\n",
    "\n",
    "print(neuron.z(inputs))\n",
    "\n",
    "#print(neuron.z(0.45))"
   ]
  },
  {
   "cell_type": "code",
   "execution_count": 14,
   "metadata": {},
   "outputs": [],
   "source": [
    "from random import uniform\n",
    "\n",
    "def gen_rand_weights(size_vec):\n",
    "    weights = []\n",
    "    for _ in range(size_vec):\n",
    "        weights.append(uniform(0,1))\n",
    "    return weights\n",
    "\n",
    "class DenseLayer:\n",
    "    def __init__(self, num_of_inputs, num_of_neurons):\n",
    "        self.num_of_inputs = num_of_inputs\n",
    "        self.neurons = []\n",
    "        for i in range(num_of_neurons):\n",
    "            weights = gen_rand_weights(num_of_inputs)\n",
    "            new_neuron = Neuron(weights)\n",
    "            self.neurons.append(new_neuron)\n",
    "\n",
    "    def feed_forward(self, inputs):\n",
    "        output = []\n",
    "        for neuron in self.neurons:\n",
    "            output.append(neuron.y(inputs))\n",
    "            #print(neuron.activation_function(inputs))\n",
    "        return output"
   ]
  },
  {
   "cell_type": "code",
   "execution_count": 15,
   "metadata": {},
   "outputs": [
    {
     "name": "stdout",
     "output_type": "stream",
     "text": [
      "784\n"
     ]
    }
   ],
   "source": [
    "print(x_train[0].shape[0]**2)\n",
    "\n",
    "dl = DenseLayer(x_train[0].shape[0]**2, 10)"
   ]
  },
  {
   "cell_type": "code",
   "execution_count": 16,
   "metadata": {},
   "outputs": [
    {
     "name": "stdout",
     "output_type": "stream",
     "text": [
      "53.54713097517888\n",
      "1.0\n",
      "[1.0, 1.0, 1.0, 1.0, 1.0, 1.0, 1.0, 1.0, 1.0, 1.0]\n"
     ]
    }
   ],
   "source": [
    "inputs = x_train[0].flatten()\n",
    "\n",
    "ff = dl.feed_forward(inputs)\n",
    "\n",
    "print(dl.neurons[1].z(inputs))\n",
    "print(dl.neurons[1].y(inputs))\n",
    "\n",
    "print(ff)"
   ]
  },
  {
   "cell_type": "code",
   "execution_count": null,
   "metadata": {},
   "outputs": [],
   "source": []
  },
  {
   "cell_type": "code",
   "execution_count": null,
   "metadata": {},
   "outputs": [],
   "source": []
  }
 ],
 "metadata": {
  "@webio": {
   "lastCommId": "9d3b4a5b121343939e8d02a519474f59",
   "lastKernelId": "e3f512c5-7600-4c88-9408-e8cf2e1f369e"
  },
  "kernelspec": {
   "display_name": "Python 3",
   "language": "python",
   "name": "python3"
  },
  "language_info": {
   "codemirror_mode": {
    "name": "ipython",
    "version": 3
   },
   "file_extension": ".py",
   "mimetype": "text/x-python",
   "name": "python",
   "nbconvert_exporter": "python",
   "pygments_lexer": "ipython3",
   "version": "3.6.8"
  }
 },
 "nbformat": 4,
 "nbformat_minor": 2
}
